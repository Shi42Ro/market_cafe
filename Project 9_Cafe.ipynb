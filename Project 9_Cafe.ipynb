{
 "cells": [
  {
   "cell_type": "markdown",
   "metadata": {},
   "source": [
    "# ROBOCAFE LA: MARKET ANALYSIS FOR A ROBOT-RUN CAFE IN LOS ANGELES"
   ]
  },
  {
   "cell_type": "markdown",
   "metadata": {},
   "source": [
    "# Introduction \n",
    "\n",
    "- Emerging Trends: Evaluate the latest trends in the Los Angeles restaurant industry, focusing on technology integration and customer reception to automation in dining.\n",
    "- Investment Appeal: Analyze the long-term viability and profitability of robot-run cafes by assessing potential competition and market saturation post-novelty phase.\n",
    "- Data-Driven Decisions: Utilize open-source data to provide a comprehensive market analysis, identifying key growth areas and potential challenges for a robot-run cafe in Los Angeles.\n",
    "\n",
    "> rest_data table:\n",
    "> - object_name — establishment name\n",
    "> - chain — chain establishment (TRUE/FALSE)\n",
    "> - object_type — establishment type\n",
    "> - address — address\n",
    "> - number — number of seats\n",
    "\n",
    "## Goals:\n",
    "\n",
    "- Analyze the competitive landscape and customer preferences for automated dining in Los Angeles to validate market potential.\n",
    "- Determine the most effective operational structure and technological integration to maximize efficiency and customer satisfaction.\n",
    "- Create a scalable business model with clear financial and marketing strategies to attract investments for initial launch and future growth."
   ]
  },
  {
   "cell_type": "markdown",
   "metadata": {},
   "source": [
    " # Table of Contents  \n",
    "1. [Stage 1: Data Preprocessing](#1)\n",
    "    1. ['rest_data' file](#2)\n",
    "1. [Stage 2: Exploratory Data Analysis](#3) \n",
    "    1. [Proportions of the various types of establishments](#4)\n",
    "    1. [Proportions of chain and nonchain establishments](#5)\n",
    "    1. [Which type of establishment is typically a chain?](#6)\n",
    "    1. [What characterizes chains: many establishments with a small number of seats or a few establishments with a lot of seats?](#7)\n",
    "    1. [Determine the average number of seats for each type of restaurant. On average, which type of restaurant has the greatest number of seats?](#8)\n",
    "    1. [Put the data on street names from the address column in a separate column.](#9)\n",
    "    1. [Plot a graph of the top ten streets by number of restaurants](#10)\n",
    "    1. [Find the number of streets that only have one restaurant](#11)\n",
    "    1. [For streets with a lot of restaurants, look at the distribution of the number of seats. What trends can be seen?](#12)\n",
    "1. [Stage 3: Overall Conclusion](#13)\n",
    "1. [Stage 4: Presentation Slide](#14)"
   ]
  },
  {
   "cell_type": "markdown",
   "metadata": {},
   "source": [
    "<a id=\"1\"></a> \n",
    "# Stage 1 : Data Preprocessing"
   ]
  },
  {
   "cell_type": "code",
   "execution_count": 1,
   "metadata": {},
   "outputs": [],
   "source": [
    "from scipy import stats as st #for probability and calculation of statistics\n",
    "import pandas as pd #for dataframe manipulation\n",
    "import numpy as np #for advanced mathematic operation\n",
    "import matplotlib.pyplot as plt #for plotting and visualize graph\n",
    "import seaborn as sns\n",
    "import nltk #for string/text manipulation"
   ]
  },
  {
   "cell_type": "markdown",
   "metadata": {},
   "source": [
    "<a id=\"2\"></a> \n",
    "## 'Rest_data' file"
   ]
  },
  {
   "cell_type": "code",
   "execution_count": 2,
   "metadata": {},
   "outputs": [],
   "source": [
    "# Loading note from the remote Jupyter Hub Notebook (rest_df)\n",
    "try:\n",
    "    rest_df = pd.read_csv('/datasets/rest_data_us.csv')\n",
    "# If dataset fails to be loaded from the remote Jupyter Hub Notebook\n",
    "# try loading dataset from my local path\n",
    "except:\n",
    "    # Try loading the file locally\n",
    "    try:\n",
    "        rest_df = pd.read_csv('/datasets/rest_data_us.csv')\n",
    "    # Run if dataset loading fails\n",
    "    except Exception as e:\n",
    "        print(f\"Error handling dataset loading: {e}\")"
   ]
  },
  {
   "cell_type": "code",
   "execution_count": 3,
   "metadata": {
    "scrolled": true
   },
   "outputs": [
    {
     "name": "stdout",
     "output_type": "stream",
     "text": [
      "<class 'pandas.core.frame.DataFrame'>\n",
      "RangeIndex: 9651 entries, 0 to 9650\n",
      "Data columns (total 6 columns):\n",
      " #   Column       Non-Null Count  Dtype \n",
      "---  ------       --------------  ----- \n",
      " 0   id           9651 non-null   int64 \n",
      " 1   object_name  9651 non-null   object\n",
      " 2   address      9651 non-null   object\n",
      " 3   chain        9648 non-null   object\n",
      " 4   object_type  9651 non-null   object\n",
      " 5   number       9651 non-null   int64 \n",
      "dtypes: int64(2), object(4)\n",
      "memory usage: 452.5+ KB\n"
     ]
    },
    {
     "data": {
      "text/html": [
       "<div>\n",
       "<style scoped>\n",
       "    .dataframe tbody tr th:only-of-type {\n",
       "        vertical-align: middle;\n",
       "    }\n",
       "\n",
       "    .dataframe tbody tr th {\n",
       "        vertical-align: top;\n",
       "    }\n",
       "\n",
       "    .dataframe thead th {\n",
       "        text-align: right;\n",
       "    }\n",
       "</style>\n",
       "<table border=\"1\" class=\"dataframe\">\n",
       "  <thead>\n",
       "    <tr style=\"text-align: right;\">\n",
       "      <th></th>\n",
       "      <th>id</th>\n",
       "      <th>object_name</th>\n",
       "      <th>address</th>\n",
       "      <th>chain</th>\n",
       "      <th>object_type</th>\n",
       "      <th>number</th>\n",
       "    </tr>\n",
       "  </thead>\n",
       "  <tbody>\n",
       "    <tr>\n",
       "      <th>0</th>\n",
       "      <td>11786</td>\n",
       "      <td>HABITAT COFFEE SHOP</td>\n",
       "      <td>3708 N EAGLE ROCK BLVD</td>\n",
       "      <td>False</td>\n",
       "      <td>Cafe</td>\n",
       "      <td>26</td>\n",
       "    </tr>\n",
       "    <tr>\n",
       "      <th>1</th>\n",
       "      <td>11787</td>\n",
       "      <td>REILLY'S</td>\n",
       "      <td>100 WORLD WAY 120</td>\n",
       "      <td>False</td>\n",
       "      <td>Restaurant</td>\n",
       "      <td>9</td>\n",
       "    </tr>\n",
       "    <tr>\n",
       "      <th>2</th>\n",
       "      <td>11788</td>\n",
       "      <td>STREET CHURROS</td>\n",
       "      <td>6801 HOLLYWOOD BLVD 253</td>\n",
       "      <td>False</td>\n",
       "      <td>Fast Food</td>\n",
       "      <td>20</td>\n",
       "    </tr>\n",
       "    <tr>\n",
       "      <th>3</th>\n",
       "      <td>11789</td>\n",
       "      <td>TRINITI ECHO PARK</td>\n",
       "      <td>1814 W SUNSET BLVD</td>\n",
       "      <td>False</td>\n",
       "      <td>Restaurant</td>\n",
       "      <td>22</td>\n",
       "    </tr>\n",
       "    <tr>\n",
       "      <th>4</th>\n",
       "      <td>11790</td>\n",
       "      <td>POLLEN</td>\n",
       "      <td>2100 ECHO PARK AVE</td>\n",
       "      <td>False</td>\n",
       "      <td>Restaurant</td>\n",
       "      <td>20</td>\n",
       "    </tr>\n",
       "    <tr>\n",
       "      <th>5</th>\n",
       "      <td>11791</td>\n",
       "      <td>THE SPOT GRILL</td>\n",
       "      <td>10004 NATIONAL BLVD</td>\n",
       "      <td>False</td>\n",
       "      <td>Restaurant</td>\n",
       "      <td>14</td>\n",
       "    </tr>\n",
       "    <tr>\n",
       "      <th>6</th>\n",
       "      <td>11792</td>\n",
       "      <td>CPK</td>\n",
       "      <td>100 WORLD WAY 126</td>\n",
       "      <td>False</td>\n",
       "      <td>Restaurant</td>\n",
       "      <td>100</td>\n",
       "    </tr>\n",
       "    <tr>\n",
       "      <th>7</th>\n",
       "      <td>11793</td>\n",
       "      <td>PHO LALA</td>\n",
       "      <td>3500 W 6TH ST STE 226</td>\n",
       "      <td>False</td>\n",
       "      <td>Restaurant</td>\n",
       "      <td>7</td>\n",
       "    </tr>\n",
       "    <tr>\n",
       "      <th>8</th>\n",
       "      <td>11794</td>\n",
       "      <td>ABC DONUTS</td>\n",
       "      <td>3027 N SAN FERNANDO RD UNIT 103</td>\n",
       "      <td>True</td>\n",
       "      <td>Fast Food</td>\n",
       "      <td>1</td>\n",
       "    </tr>\n",
       "    <tr>\n",
       "      <th>9</th>\n",
       "      <td>11795</td>\n",
       "      <td>UPSTAIRS</td>\n",
       "      <td>3707 N CAHUENGA BLVD</td>\n",
       "      <td>False</td>\n",
       "      <td>Restaurant</td>\n",
       "      <td>35</td>\n",
       "    </tr>\n",
       "    <tr>\n",
       "      <th>10</th>\n",
       "      <td>11796</td>\n",
       "      <td>EL POLLO LOCO</td>\n",
       "      <td>5319 W SUNSET BLVD</td>\n",
       "      <td>True</td>\n",
       "      <td>Restaurant</td>\n",
       "      <td>38</td>\n",
       "    </tr>\n",
       "    <tr>\n",
       "      <th>11</th>\n",
       "      <td>11797</td>\n",
       "      <td>POONG NYUN BAKERY</td>\n",
       "      <td>928 S WESTERN AVE STE 109</td>\n",
       "      <td>True</td>\n",
       "      <td>Bakery</td>\n",
       "      <td>17</td>\n",
       "    </tr>\n",
       "    <tr>\n",
       "      <th>12</th>\n",
       "      <td>11798</td>\n",
       "      <td>EMC RESTAURANT GROUP LLC</td>\n",
       "      <td>3500 W 6TH ST STE 101</td>\n",
       "      <td>True</td>\n",
       "      <td>Restaurant</td>\n",
       "      <td>133</td>\n",
       "    </tr>\n",
       "    <tr>\n",
       "      <th>13</th>\n",
       "      <td>11799</td>\n",
       "      <td>POPULAR DONUTS</td>\n",
       "      <td>3614 W SLAUSON AVE</td>\n",
       "      <td>False</td>\n",
       "      <td>Fast Food</td>\n",
       "      <td>18</td>\n",
       "    </tr>\n",
       "    <tr>\n",
       "      <th>14</th>\n",
       "      <td>11800</td>\n",
       "      <td>CUSCATLECA BAKERY</td>\n",
       "      <td>2501 W SUNSET BLVD #A</td>\n",
       "      <td>True</td>\n",
       "      <td>Bakery</td>\n",
       "      <td>26</td>\n",
       "    </tr>\n",
       "    <tr>\n",
       "      <th>15</th>\n",
       "      <td>11801</td>\n",
       "      <td>FOOD COURT TRAY WASHING AREA</td>\n",
       "      <td>928 S WESTERN AVE STE 300</td>\n",
       "      <td>True</td>\n",
       "      <td>Restaurant</td>\n",
       "      <td>21</td>\n",
       "    </tr>\n",
       "    <tr>\n",
       "      <th>16</th>\n",
       "      <td>11802</td>\n",
       "      <td>HMS BOUNTY</td>\n",
       "      <td>3357 WILSHIRE BLVD</td>\n",
       "      <td>False</td>\n",
       "      <td>Restaurant</td>\n",
       "      <td>147</td>\n",
       "    </tr>\n",
       "    <tr>\n",
       "      <th>17</th>\n",
       "      <td>11803</td>\n",
       "      <td>AN'S CHAN BANG</td>\n",
       "      <td>244 S OXFORD AVE 5</td>\n",
       "      <td>False</td>\n",
       "      <td>Restaurant</td>\n",
       "      <td>10</td>\n",
       "    </tr>\n",
       "    <tr>\n",
       "      <th>18</th>\n",
       "      <td>11804</td>\n",
       "      <td>MURAKAMI</td>\n",
       "      <td>7160 MELROSE AVE</td>\n",
       "      <td>False</td>\n",
       "      <td>Restaurant</td>\n",
       "      <td>139</td>\n",
       "    </tr>\n",
       "    <tr>\n",
       "      <th>19</th>\n",
       "      <td>11805</td>\n",
       "      <td>DELTA SKY CLUB T3</td>\n",
       "      <td>300 WORLD WAY</td>\n",
       "      <td>False</td>\n",
       "      <td>Restaurant</td>\n",
       "      <td>103</td>\n",
       "    </tr>\n",
       "  </tbody>\n",
       "</table>\n",
       "</div>"
      ],
      "text/plain": [
       "       id                   object_name                          address  \\\n",
       "0   11786           HABITAT COFFEE SHOP           3708 N EAGLE ROCK BLVD   \n",
       "1   11787                      REILLY'S                100 WORLD WAY 120   \n",
       "2   11788                STREET CHURROS          6801 HOLLYWOOD BLVD 253   \n",
       "3   11789             TRINITI ECHO PARK               1814 W SUNSET BLVD   \n",
       "4   11790                        POLLEN               2100 ECHO PARK AVE   \n",
       "5   11791                THE SPOT GRILL              10004 NATIONAL BLVD   \n",
       "6   11792                           CPK                100 WORLD WAY 126   \n",
       "7   11793                      PHO LALA            3500 W 6TH ST STE 226   \n",
       "8   11794                    ABC DONUTS  3027 N SAN FERNANDO RD UNIT 103   \n",
       "9   11795                      UPSTAIRS             3707 N CAHUENGA BLVD   \n",
       "10  11796                 EL POLLO LOCO               5319 W SUNSET BLVD   \n",
       "11  11797             POONG NYUN BAKERY        928 S WESTERN AVE STE 109   \n",
       "12  11798      EMC RESTAURANT GROUP LLC            3500 W 6TH ST STE 101   \n",
       "13  11799                POPULAR DONUTS               3614 W SLAUSON AVE   \n",
       "14  11800             CUSCATLECA BAKERY            2501 W SUNSET BLVD #A   \n",
       "15  11801  FOOD COURT TRAY WASHING AREA        928 S WESTERN AVE STE 300   \n",
       "16  11802                    HMS BOUNTY               3357 WILSHIRE BLVD   \n",
       "17  11803                AN'S CHAN BANG               244 S OXFORD AVE 5   \n",
       "18  11804                      MURAKAMI                 7160 MELROSE AVE   \n",
       "19  11805             DELTA SKY CLUB T3                    300 WORLD WAY   \n",
       "\n",
       "    chain object_type  number  \n",
       "0   False        Cafe      26  \n",
       "1   False  Restaurant       9  \n",
       "2   False   Fast Food      20  \n",
       "3   False  Restaurant      22  \n",
       "4   False  Restaurant      20  \n",
       "5   False  Restaurant      14  \n",
       "6   False  Restaurant     100  \n",
       "7   False  Restaurant       7  \n",
       "8    True   Fast Food       1  \n",
       "9   False  Restaurant      35  \n",
       "10   True  Restaurant      38  \n",
       "11   True      Bakery      17  \n",
       "12   True  Restaurant     133  \n",
       "13  False   Fast Food      18  \n",
       "14   True      Bakery      26  \n",
       "15   True  Restaurant      21  \n",
       "16  False  Restaurant     147  \n",
       "17  False  Restaurant      10  \n",
       "18  False  Restaurant     139  \n",
       "19  False  Restaurant     103  "
      ]
     },
     "execution_count": 3,
     "metadata": {},
     "output_type": "execute_result"
    }
   ],
   "source": [
    "rest_df.info()\n",
    "rest_df.head(20)"
   ]
  },
  {
   "cell_type": "code",
   "execution_count": 4,
   "metadata": {
    "scrolled": true
   },
   "outputs": [
    {
     "data": {
      "text/plain": [
       "id             0\n",
       "object_name    0\n",
       "address        0\n",
       "chain          3\n",
       "object_type    0\n",
       "number         0\n",
       "dtype: int64"
      ]
     },
     "execution_count": 4,
     "metadata": {},
     "output_type": "execute_result"
    }
   ],
   "source": [
    "# Check missing values in 'rest_df'\n",
    "rest_missing_values = rest_df.isna().sum()\n",
    "rest_missing_values"
   ]
  },
  {
   "cell_type": "code",
   "execution_count": 5,
   "metadata": {},
   "outputs": [
    {
     "data": {
      "text/html": [
       "<div>\n",
       "<style scoped>\n",
       "    .dataframe tbody tr th:only-of-type {\n",
       "        vertical-align: middle;\n",
       "    }\n",
       "\n",
       "    .dataframe tbody tr th {\n",
       "        vertical-align: top;\n",
       "    }\n",
       "\n",
       "    .dataframe thead th {\n",
       "        text-align: right;\n",
       "    }\n",
       "</style>\n",
       "<table border=\"1\" class=\"dataframe\">\n",
       "  <thead>\n",
       "    <tr style=\"text-align: right;\">\n",
       "      <th></th>\n",
       "      <th>id</th>\n",
       "      <th>object_name</th>\n",
       "      <th>address</th>\n",
       "      <th>chain</th>\n",
       "      <th>object_type</th>\n",
       "      <th>number</th>\n",
       "    </tr>\n",
       "  </thead>\n",
       "  <tbody>\n",
       "    <tr>\n",
       "      <th>7408</th>\n",
       "      <td>19194</td>\n",
       "      <td>TAQUERIA LOS 3 CARNALES</td>\n",
       "      <td>5000 E WHITTIER BLVD</td>\n",
       "      <td>NaN</td>\n",
       "      <td>Restaurant</td>\n",
       "      <td>14</td>\n",
       "    </tr>\n",
       "    <tr>\n",
       "      <th>7523</th>\n",
       "      <td>19309</td>\n",
       "      <td>JAMMIN JIMMY'S PIZZA</td>\n",
       "      <td>1641 FIRESTONE BLVD</td>\n",
       "      <td>NaN</td>\n",
       "      <td>Pizza</td>\n",
       "      <td>1</td>\n",
       "    </tr>\n",
       "    <tr>\n",
       "      <th>8648</th>\n",
       "      <td>20434</td>\n",
       "      <td>THE LEXINGTON THEATER</td>\n",
       "      <td>129 E 3RD ST</td>\n",
       "      <td>NaN</td>\n",
       "      <td>Restaurant</td>\n",
       "      <td>35</td>\n",
       "    </tr>\n",
       "  </tbody>\n",
       "</table>\n",
       "</div>"
      ],
      "text/plain": [
       "         id              object_name               address chain object_type  \\\n",
       "7408  19194  TAQUERIA LOS 3 CARNALES  5000 E WHITTIER BLVD   NaN  Restaurant   \n",
       "7523  19309     JAMMIN JIMMY'S PIZZA   1641 FIRESTONE BLVD   NaN       Pizza   \n",
       "8648  20434    THE LEXINGTON THEATER          129 E 3RD ST   NaN  Restaurant   \n",
       "\n",
       "      number  \n",
       "7408      14  \n",
       "7523       1  \n",
       "8648      35  "
      ]
     },
     "execution_count": 5,
     "metadata": {},
     "output_type": "execute_result"
    }
   ],
   "source": [
    "rest_df[rest_df['chain'].isna()]"
   ]
  },
  {
   "cell_type": "code",
   "execution_count": 6,
   "metadata": {},
   "outputs": [
    {
     "data": {
      "text/plain": [
       "0.031084861672365557"
      ]
     },
     "execution_count": 6,
     "metadata": {},
     "output_type": "execute_result"
    }
   ],
   "source": [
    "total_rows = 9651\n",
    "null_val = (rest_df['chain'].isna().sum() / total_rows)*100\n",
    "null_val"
   ]
  },
  {
   "cell_type": "code",
   "execution_count": 7,
   "metadata": {},
   "outputs": [
    {
     "data": {
      "text/plain": [
       "0"
      ]
     },
     "execution_count": 7,
     "metadata": {},
     "output_type": "execute_result"
    }
   ],
   "source": [
    "# Check duplicated values in 'rest_df'\n",
    "rest_duplicates = rest_df['id'].duplicated().sum()\n",
    "rest_duplicates"
   ]
  },
  {
   "cell_type": "code",
   "execution_count": 8,
   "metadata": {
    "scrolled": true
   },
   "outputs": [
    {
     "name": "stdout",
     "output_type": "stream",
     "text": [
      "<class 'pandas.core.frame.DataFrame'>\n",
      "Int64Index: 9648 entries, 0 to 9650\n",
      "Data columns (total 6 columns):\n",
      " #   Column       Non-Null Count  Dtype \n",
      "---  ------       --------------  ----- \n",
      " 0   id           9648 non-null   int64 \n",
      " 1   object_name  9648 non-null   object\n",
      " 2   address      9648 non-null   object\n",
      " 3   chain        9648 non-null   object\n",
      " 4   object_type  9648 non-null   object\n",
      " 5   number       9648 non-null   int64 \n",
      "dtypes: int64(2), object(4)\n",
      "memory usage: 527.6+ KB\n"
     ]
    }
   ],
   "source": [
    "# Drop rows containing NaN in the 'chain' column\n",
    "rest_df = rest_df.dropna(subset=['chain'])\n",
    "\n",
    "# Verify the changes\n",
    "rest_df.info()"
   ]
  },
  {
   "cell_type": "markdown",
   "metadata": {},
   "source": [
    "- Based on above analysis, there are three missing values for three rows at 'chain'\n",
    "- Percentage of Missing Values: The percentage of missing values in the 'chain' column is calculated as (3 / 9,651) * 100, which results in 0.031%.\n",
    "- Based on the analysis, it can be concluded that the 'chain' column has a very low percentage of missing values (0.031%), which indicates that information on whether a restaurant is part of a chain is available for the vast majority of entries.\n",
    "- Therefore, since this missing values has no meaningful to this analysis, the data will be drop."
   ]
  },
  {
   "cell_type": "markdown",
   "metadata": {},
   "source": [
    "<a id=\"3\"></a> \n",
    "# Stage 2: Exploratory Data Analysis"
   ]
  },
  {
   "cell_type": "markdown",
   "metadata": {},
   "source": [
    "- Below are the questions that need to be answered throughout this analysis:\n",
    "\n",
    "> 1. Investigate the proportions of the various types of establishments. Plot a graph.\n",
    "> 2. Investigate the proportions of chain and nonchain establishments. Plot a graph.\n",
    "> 3. Which type of establishment is typically a chain?\n",
    "> 4. What characterizes chains: many establishments with a small number of seats or a few establishments with a lot of seats?\n",
    "Determine the average number of seats for each type of restaurant. On average, which type of restaurant has the greatest number of seats? Plot graphs.\n",
    "> 5. Put the data on street names from the address column in a separate column.\n",
    "> 6. Plot a graph of the top ten streets by number of restaurants.\n",
    "> 7. Find the number of streets that only have one restaurant.\n",
    "> 8. For streets with a lot of restaurants, look at the distribution of the number of seats. What trends can be seen?\n",
    "> 9. Draw an overall conclusion and provide recommendations on restaurant type and number of seats. Comment on the possibility of developing a chain. \n",
    "> 10. Provide overall presentation"
   ]
  },
  {
   "cell_type": "markdown",
   "metadata": {},
   "source": [
    "<a id=\"4\"></a> \n",
    "### Proportions of the various types of establishments"
   ]
  },
  {
   "cell_type": "markdown",
   "metadata": {},
   "source": [
    "- To analyze the distribution of different types of establishments in the DataFrame, the value_counts() method can be applied to the 'object_type' column. \n",
    "- This approach will provide the frequency of each unique type of establishment. To determine their proportions, we can divide these counts by the total number of entries in the DataFrame."
   ]
  },
  {
   "cell_type": "code",
   "execution_count": 9,
   "metadata": {},
   "outputs": [
    {
     "name": "stdout",
     "output_type": "stream",
     "text": [
      "Restaurant    0.751762\n",
      "Fast Food     0.110489\n",
      "Cafe          0.045087\n",
      "Pizza         0.033064\n",
      "Bar           0.030265\n",
      "Bakery        0.029333\n",
      "Name: object_type, dtype: float64\n"
     ]
    }
   ],
   "source": [
    "establishment_counts = rest_df['object_type'].value_counts()\n",
    "total_establishments = len(rest_df)\n",
    "\n",
    "# Calculate the proportions\n",
    "establishment_proportions = establishment_counts / total_establishments\n",
    "\n",
    "# Print the proportions\n",
    "print(establishment_proportions)"
   ]
  },
  {
   "cell_type": "code",
   "execution_count": 10,
   "metadata": {},
   "outputs": [
    {
     "data": {
      "image/png": "[encoded data removed]",
      "text/plain": [
       "<Figure size 700x400 with 1 Axes>"
      ]
     },
     "metadata": {},
     "output_type": "display_data"
    }
   ],
   "source": [
    "establishment_counts = rest_df['object_type'].value_counts(normalize=True)\n",
    "\n",
    "color = [\"blue\" if r_type == \"Cafe\" else \"grey\" for r_type in establishment_counts.index]\n",
    "\n",
    "plt.figure(figsize=[7, 4])\n",
    "establishment_counts.plot(kind='bar', color=color)\n",
    "plt.title('Proportions of Establishment Types')\n",
    "plt.xlabel('Type of Establishment')\n",
    "plt.ylabel('Proportion of Establishments (%)')\n",
    "plt.xticks(rotation=0)\n",
    "plt.show()"
   ]
  },
  {
   "cell_type": "markdown",
   "metadata": {},
   "source": [
    "> - Restaurants dominate: The graph clearly shows that restaurants make up the majority of establishments, with their proportion significantly higher than any other type. This suggests that sit-down dining experiences are the most common in this market.\n",
    "\n",
    "> - Fast Food and Cafes: Fast food establishments are the next most common, but with a much smaller proportion compared to restaurants, indicating a substantial preference for more formal dining options over quick-service options. Cafes have an even smaller share, which may indicate a niche market or less demand compared to other dining experiences.\n",
    "\n",
    "> - Minority Establishments: Pizza places, bars, and bakeries hold minor positions in the proportions, suggesting these are less prevalent. This could imply either a lower consumer demand or higher competition in these categories, or possibly both.\n",
    "\n",
    "> - Market Segmentation Opportunity: The overwhelming dominance of restaurants might suggest a saturated market, whereas the relatively lower proportions of cafes, bars, bakeries, and pizza places might offer opportunities for new businesses, especially if they can differentiate themselves or tap into unmet consumer needs.\n",
    "\n",
    "> - Strategic Considerations: For a new entrant like a robot-run cafe, this data suggests focusing on unique offerings that distinguish it from traditional restaurants and fast-food outlets, potentially fitting into the cafe category but with a unique twist."
   ]
  },
  {
   "cell_type": "markdown",
   "metadata": {},
   "source": [
    "<a id=\"5\"></a> \n",
    "### Proportions of chain and nonchain establishments"
   ]
  },
  {
   "cell_type": "markdown",
   "metadata": {},
   "source": [
    "- To examine the distribution of chain versus non-chain establishments in the DataFrame, the value_counts() method on the 'chain' column cna be utilized. \n",
    "- This will provide the counts for each category, specifically True and False. To determine their respective proportions, these counts can be divided by the overall number of establishments in the dataset."
   ]
  },
  {
   "cell_type": "code",
   "execution_count": 11,
   "metadata": {},
   "outputs": [
    {
     "name": "stdout",
     "output_type": "stream",
     "text": [
      "False    0.618988\n",
      "True     0.381012\n",
      "Name: chain, dtype: float64\n"
     ]
    }
   ],
   "source": [
    "chain_counts = rest_df['chain'].value_counts()\n",
    "total_establishments = len(rest_df)\n",
    "\n",
    "# Calculate the proportions\n",
    "chain_proportions = chain_counts / total_establishments\n",
    "\n",
    "# Print the proportions\n",
    "print(chain_proportions)"
   ]
  },
  {
   "cell_type": "code",
   "execution_count": 12,
   "metadata": {},
   "outputs": [
    {
     "data": {
      "image/png": "[encoded data removed]",
      "text/plain": [
       "<Figure size 800x600 with 1 Axes>"
      ]
     },
     "metadata": {},
     "output_type": "display_data"
    },
    {
     "data": {
      "image/png": "[encoded data removed]",
      "text/plain": [
       "<Figure size 800x600 with 1 Axes>"
      ]
     },
     "metadata": {},
     "output_type": "display_data"
    }
   ],
   "source": [
    "chain_counts = rest_df['chain'].value_counts()\n",
    "\n",
    "# Create the bar chart\n",
    "plt.figure(figsize=(8, 6))\n",
    "plt.bar(chain_counts.index.astype(str), chain_counts)\n",
    "plt.xlabel('Chain')\n",
    "plt.ylabel('Count')\n",
    "plt.title('Proportions of Chain and Non-chain Establishments')\n",
    "\n",
    "plt.show()\n",
    "\n",
    "# Create the pie chart\n",
    "plt.figure(figsize=(8, 6))\n",
    "plt.pie(chain_counts, labels=chain_counts.index, autopct='%1.1f%%')\n",
    "plt.title('Proportions of Chain and Non-chain Establishments')\n",
    "\n",
    "plt.show()"
   ]
  },
  {
   "cell_type": "markdown",
   "metadata": {},
   "source": [
    "> - Independent establishments are more common: The data shows that about 61.9% (0.618796) of the establishments are non-chain, indicating that a majority of the establishments in the dataset operate independently rather than as part of a chain.\n",
    "\n",
    "> - Chain establishments are also notable: Chain establishments constitute approximately 38.1% (0.380893) of the dataset. While they are less prevalent than non-chain establishments, they still form a substantial segment of the market."
   ]
  },
  {
   "cell_type": "markdown",
   "metadata": {},
   "source": [
    "<a id=\"6\"></a> \n",
    "### Which type of establishment is typically a chain?"
   ]
  },
  {
   "cell_type": "markdown",
   "metadata": {},
   "source": [
    "- To identify which type of establishment commonly operates as part of a chain in the provided DataFrame, the association between the 'chain' column and the 'object_type' column can be investigated. \n",
    "- By calculating the percentage of chain establishments within each type of establishment, we can determine which category has the highest proportion of chain operations."
   ]
  },
  {
   "cell_type": "code",
   "execution_count": 13,
   "metadata": {},
   "outputs": [
    {
     "data": {
      "text/plain": [
       "Restaurant    0.623504\n",
       "Fast Food     0.164581\n",
       "Bakery        0.076986\n",
       "Cafe          0.072361\n",
       "Pizza         0.041621\n",
       "Bar           0.020947\n",
       "Name: object_type, dtype: float64"
      ]
     },
     "execution_count": 13,
     "metadata": {},
     "output_type": "execute_result"
    }
   ],
   "source": [
    "chain_establishments = rest_df[rest_df['chain'] == True]\n",
    "chain_proportions_by_type = chain_establishments['object_type'].value_counts(normalize=True)\n",
    "chain_proportions_by_type"
   ]
  },
  {
   "cell_type": "code",
   "execution_count": 14,
   "metadata": {},
   "outputs": [
    {
     "name": "stdout",
     "output_type": "stream",
     "text": [
      "The type of establishment typically a chain:  Restaurant\n"
     ]
    }
   ],
   "source": [
    "# Find the type with the highest proportion of chain establishments\n",
    "most_common_chain_type = chain_proportions_by_type.idxmax()\n",
    "\n",
    "# Print the most common chain establishment type\n",
    "print(\"The type of establishment typically a chain: \", most_common_chain_type)"
   ]
  },
  {
   "cell_type": "code",
   "execution_count": 15,
   "metadata": {},
   "outputs": [
    {
     "data": {
      "image/png": "[encoded data removed]",
      "text/plain": [
       "<Figure size 800x600 with 1 Axes>"
      ]
     },
     "metadata": {},
     "output_type": "display_data"
    }
   ],
   "source": [
    "labels = chain_proportions_by_type.index\n",
    "proportions = chain_proportions_by_type.values\n",
    "\n",
    "# Create the pie chart\n",
    "plt.figure(figsize=(8, 6))\n",
    "plt.pie(proportions, labels=labels, autopct='%1.1f%%', normalize=False)\n",
    "plt.title('Proportions of Chain Establishments by Type')\n",
    "\n",
    "# Display the chart\n",
    "plt.show()"
   ]
  },
  {
   "cell_type": "markdown",
   "metadata": {},
   "source": [
    "> - Dominance of Restaurants: Restaurants represent a significant majority of the chain establishments at 62.4%. This suggests that restaurants are the most common type of establishment to be part of a chain, likely due to scalable business models that are easy to replicate across multiple locations.\n",
    "\n",
    "> - Fast Food Presence: Fast food establishments account for 16.5% of chain establishments, highlighting their role as a significant segment within chain operations. The nature of fast food—standardized menus, quick service, and lower operational costs—makes it well-suited to chain models.\n",
    "\n",
    "> - Other Establishments: Cafes, bakeries, bars, and pizza places make up smaller portions of the chain establishments. Cafes and bakeries each constitute about 7.7% and 7.2% respectively, which indicates a moderate presence in the chain segment. Bars and pizza places are even less common in chain forms, with only 4.2% and 2.1% respectively."
   ]
  },
  {
   "cell_type": "markdown",
   "metadata": {},
   "source": [
    "<a id=\"7\"></a> \n",
    "### What characterizes chains: many establishments with a small number of seats or a few establishments with a lot of seats?"
   ]
  },
  {
   "cell_type": "markdown",
   "metadata": {},
   "source": [
    "- To understand the seating capacity trends among chain establishments in the provided DataFrame, the correlation between the 'chain' column and the 'number' column can be examined. \n",
    "- By comparing the average number of seats for both chain and non-chain establishments, we can discern whether chains typically consist of many locations with fewer seats or fewer locations with more seats."
   ]
  },
  {
   "cell_type": "code",
   "execution_count": 16,
   "metadata": {},
   "outputs": [
    {
     "name": "stdout",
     "output_type": "stream",
     "text": [
      "The average number of seats for chain establishments:  39.69423286180631\n",
      "The average number of seats for non-chain establishments:  46.17146684527796\n"
     ]
    }
   ],
   "source": [
    "chain_establishments = rest_df[rest_df['chain'] == True]\n",
    "non_chain_establishments = rest_df[rest_df['chain'] == False]\n",
    "\n",
    "# Calculate the average number of seats for chain and non-chain establishments\n",
    "avg_seats_chain = chain_establishments['number'].mean()\n",
    "avg_seats_non_chain = non_chain_establishments['number'].mean()\n",
    "\n",
    "print(\"The average number of seats for chain establishments: \", avg_seats_chain)\n",
    "print(\"The average number of seats for non-chain establishments: \", avg_seats_non_chain)"
   ]
  },
  {
   "cell_type": "code",
   "execution_count": 17,
   "metadata": {},
   "outputs": [
    {
     "name": "stdout",
     "output_type": "stream",
     "text": [
      "Characterization of Chains:  Chains are characterized by many establishments with a small number of seats.\n"
     ]
    }
   ],
   "source": [
    "# Determine the seating pattern characterization\n",
    "if avg_seats_chain < avg_seats_non_chain:\n",
    "    characterization = \"Chains are characterized by many establishments with a small number of seats.\"\n",
    "else:\n",
    "    characterization = \"Chains are characterized by a few establishments with a lot of seats.\"\n",
    "\n",
    "# Print the seating pattern characterization\n",
    "print(\"Characterization of Chains: \", characterization)"
   ]
  },
  {
   "cell_type": "code",
   "execution_count": 18,
   "metadata": {},
   "outputs": [
    {
     "data": {
      "image/png": "[encoded data removed]",
      "text/plain": [
       "<Figure size 800x600 with 1 Axes>"
      ]
     },
     "metadata": {},
     "output_type": "display_data"
    }
   ],
   "source": [
    "# Create the grouped bar chart\n",
    "categories = ['Chain', 'Non-Chain']\n",
    "average_seats = [avg_seats_chain, avg_seats_non_chain]\n",
    "\n",
    "plt.figure(figsize=(8, 6))\n",
    "plt.bar(categories, average_seats)\n",
    "plt.xlabel('Establishment Type')\n",
    "plt.ylabel('Average Number of Seats')\n",
    "plt.title('Seating Patterns: Chains vs Non-Chains')\n",
    "\n",
    "# Display the chart\n",
    "plt.show()"
   ]
  },
  {
   "cell_type": "markdown",
   "metadata": {},
   "source": [
    "> - Comparable Seating Capacity: The graph shows that the average number of seats for chain establishments is slightly lower than for non-chain establishments, but the difference is not substantial. This suggests that both chain and non-chain establishments tend to have similar seating capacities.\n",
    "\n",
    "> - Implications for Chains: The data indicates that chain establishments do not necessarily focus on smaller seating arrangements, which might be expected if they were primarily fast food or quick-service restaurants. Instead, chains appear to have a seating capacity that allows for a variety of restaurant types, possibly including sit-down dining.\n",
    "\n",
    "> - Non-Chain Flexibility: Non-chain establishments having a marginally higher average number of seats could reflect greater variability in their business models. Non-chains might include larger dining venues or restaurants that offer a more expansive seating arrangement, which could be less common in standardized chain models."
   ]
  },
  {
   "cell_type": "markdown",
   "metadata": {},
   "source": [
    "<a id=\"8\"></a> \n",
    "### Determine the average number of seats for each type of restaurant. On average, which type of restaurant has the greatest number of seats?"
   ]
  },
  {
   "cell_type": "markdown",
   "metadata": {},
   "source": [
    "- To calculate the average number of seats for each type of establishment and identify which type has the highest average, the DataFrame can be grouped by the 'object_type' column and compute the mean of the 'number' column for each group."
   ]
  },
  {
   "cell_type": "code",
   "execution_count": 19,
   "metadata": {},
   "outputs": [
    {
     "data": {
      "text/plain": [
       "object_type\n",
       "Bakery        21.773852\n",
       "Bar           44.767123\n",
       "Cafe          25.000000\n",
       "Fast Food     31.837711\n",
       "Pizza         28.545455\n",
       "Restaurant    48.048807\n",
       "Name: number, dtype: float64"
      ]
     },
     "execution_count": 19,
     "metadata": {},
     "output_type": "execute_result"
    }
   ],
   "source": [
    "average_seats_by_type = rest_df.groupby('object_type')['number'].mean()\n",
    "average_seats_by_type"
   ]
  },
  {
   "cell_type": "code",
   "execution_count": 20,
   "metadata": {},
   "outputs": [
    {
     "name": "stdout",
     "output_type": "stream",
     "text": [
      "Type of restaurant with the greatest average number of seats is Restaurant\n"
     ]
    }
   ],
   "source": [
    "# Find the type of restaurant with the greatest average number of seats\n",
    "restaurant_with_most_seats = average_seats_by_type.idxmax()\n",
    "\n",
    "print(\"Type of restaurant with the greatest average number of seats is\", restaurant_with_most_seats)"
   ]
  },
  {
   "cell_type": "code",
   "execution_count": 21,
   "metadata": {},
   "outputs": [
    {
     "data": {
      "image/png": "[encoded data removed]",
      "text/plain": [
       "<Figure size 1000x600 with 1 Axes>"
      ]
     },
     "metadata": {},
     "output_type": "display_data"
    }
   ],
   "source": [
    "# Create the bar chart\n",
    "plt.figure(figsize=(10, 6))\n",
    "average_seats_by_type.plot(kind='bar')\n",
    "plt.xlabel('Restaurant Type')\n",
    "plt.ylabel('Average Number of Seats')\n",
    "plt.title('Average Number of Seats by Restaurant Type')\n",
    "\n",
    "# Rotate x-axis labels by 45 degrees\n",
    "plt.xticks(rotation=0)\n",
    "\n",
    "# Display the chart\n",
    "plt.show()"
   ]
  },
  {
   "cell_type": "markdown",
   "metadata": {},
   "source": [
    "> - Variation in Seating Capacity: The average number of seats differs significantly across different types of establishments.\n",
    "\n",
    "> - Highest Capacity: Restaurants have the greatest average number of seats (48 seats), indicating their capacity to accommodate more patrons.\n",
    "\n",
    "> - Notable Capacities: Both bars (45 seats) and fast food (32 seats) establishments also exhibit relatively high average seating capacities.\n",
    "\n",
    "> - Smaller Venues: Cafes (25 seats), bakeries (22 seats), and pizza (29 seats) places typically have lower seating capacities, reflecting smaller venue sizes compared to other establishment types."
   ]
  },
  {
   "cell_type": "markdown",
   "metadata": {},
   "source": [
    "<a id=\"9\"></a> \n",
    "### Put the data on street names from the address column in a separate column."
   ]
  },
  {
   "cell_type": "code",
   "execution_count": 22,
   "metadata": {},
   "outputs": [
    {
     "data": {
      "text/html": [
       "<div>\n",
       "<style scoped>\n",
       "    .dataframe tbody tr th:only-of-type {\n",
       "        vertical-align: middle;\n",
       "    }\n",
       "\n",
       "    .dataframe tbody tr th {\n",
       "        vertical-align: top;\n",
       "    }\n",
       "\n",
       "    .dataframe thead th {\n",
       "        text-align: right;\n",
       "    }\n",
       "</style>\n",
       "<table border=\"1\" class=\"dataframe\">\n",
       "  <thead>\n",
       "    <tr style=\"text-align: right;\">\n",
       "      <th></th>\n",
       "      <th>id</th>\n",
       "      <th>object_name</th>\n",
       "      <th>address</th>\n",
       "      <th>chain</th>\n",
       "      <th>object_type</th>\n",
       "      <th>number</th>\n",
       "    </tr>\n",
       "  </thead>\n",
       "  <tbody>\n",
       "    <tr>\n",
       "      <th>0</th>\n",
       "      <td>11786</td>\n",
       "      <td>HABITAT COFFEE SHOP</td>\n",
       "      <td>3708 N EAGLE ROCK BLVD</td>\n",
       "      <td>False</td>\n",
       "      <td>Cafe</td>\n",
       "      <td>26</td>\n",
       "    </tr>\n",
       "    <tr>\n",
       "      <th>1</th>\n",
       "      <td>11787</td>\n",
       "      <td>REILLY'S</td>\n",
       "      <td>100 WORLD WAY 120</td>\n",
       "      <td>False</td>\n",
       "      <td>Restaurant</td>\n",
       "      <td>9</td>\n",
       "    </tr>\n",
       "    <tr>\n",
       "      <th>2</th>\n",
       "      <td>11788</td>\n",
       "      <td>STREET CHURROS</td>\n",
       "      <td>6801 HOLLYWOOD BLVD 253</td>\n",
       "      <td>False</td>\n",
       "      <td>Fast Food</td>\n",
       "      <td>20</td>\n",
       "    </tr>\n",
       "    <tr>\n",
       "      <th>3</th>\n",
       "      <td>11789</td>\n",
       "      <td>TRINITI ECHO PARK</td>\n",
       "      <td>1814 W SUNSET BLVD</td>\n",
       "      <td>False</td>\n",
       "      <td>Restaurant</td>\n",
       "      <td>22</td>\n",
       "    </tr>\n",
       "    <tr>\n",
       "      <th>4</th>\n",
       "      <td>11790</td>\n",
       "      <td>POLLEN</td>\n",
       "      <td>2100 ECHO PARK AVE</td>\n",
       "      <td>False</td>\n",
       "      <td>Restaurant</td>\n",
       "      <td>20</td>\n",
       "    </tr>\n",
       "    <tr>\n",
       "      <th>5</th>\n",
       "      <td>11791</td>\n",
       "      <td>THE SPOT GRILL</td>\n",
       "      <td>10004 NATIONAL BLVD</td>\n",
       "      <td>False</td>\n",
       "      <td>Restaurant</td>\n",
       "      <td>14</td>\n",
       "    </tr>\n",
       "    <tr>\n",
       "      <th>6</th>\n",
       "      <td>11792</td>\n",
       "      <td>CPK</td>\n",
       "      <td>100 WORLD WAY 126</td>\n",
       "      <td>False</td>\n",
       "      <td>Restaurant</td>\n",
       "      <td>100</td>\n",
       "    </tr>\n",
       "    <tr>\n",
       "      <th>7</th>\n",
       "      <td>11793</td>\n",
       "      <td>PHO LALA</td>\n",
       "      <td>3500 W 6TH ST STE 226</td>\n",
       "      <td>False</td>\n",
       "      <td>Restaurant</td>\n",
       "      <td>7</td>\n",
       "    </tr>\n",
       "    <tr>\n",
       "      <th>8</th>\n",
       "      <td>11794</td>\n",
       "      <td>ABC DONUTS</td>\n",
       "      <td>3027 N SAN FERNANDO RD UNIT 103</td>\n",
       "      <td>True</td>\n",
       "      <td>Fast Food</td>\n",
       "      <td>1</td>\n",
       "    </tr>\n",
       "    <tr>\n",
       "      <th>9</th>\n",
       "      <td>11795</td>\n",
       "      <td>UPSTAIRS</td>\n",
       "      <td>3707 N CAHUENGA BLVD</td>\n",
       "      <td>False</td>\n",
       "      <td>Restaurant</td>\n",
       "      <td>35</td>\n",
       "    </tr>\n",
       "  </tbody>\n",
       "</table>\n",
       "</div>"
      ],
      "text/plain": [
       "      id          object_name                          address  chain  \\\n",
       "0  11786  HABITAT COFFEE SHOP           3708 N EAGLE ROCK BLVD  False   \n",
       "1  11787             REILLY'S                100 WORLD WAY 120  False   \n",
       "2  11788       STREET CHURROS          6801 HOLLYWOOD BLVD 253  False   \n",
       "3  11789    TRINITI ECHO PARK               1814 W SUNSET BLVD  False   \n",
       "4  11790               POLLEN               2100 ECHO PARK AVE  False   \n",
       "5  11791       THE SPOT GRILL              10004 NATIONAL BLVD  False   \n",
       "6  11792                  CPK                100 WORLD WAY 126  False   \n",
       "7  11793             PHO LALA            3500 W 6TH ST STE 226  False   \n",
       "8  11794           ABC DONUTS  3027 N SAN FERNANDO RD UNIT 103   True   \n",
       "9  11795             UPSTAIRS             3707 N CAHUENGA BLVD  False   \n",
       "\n",
       "  object_type  number  \n",
       "0        Cafe      26  \n",
       "1  Restaurant       9  \n",
       "2   Fast Food      20  \n",
       "3  Restaurant      22  \n",
       "4  Restaurant      20  \n",
       "5  Restaurant      14  \n",
       "6  Restaurant     100  \n",
       "7  Restaurant       7  \n",
       "8   Fast Food       1  \n",
       "9  Restaurant      35  "
      ]
     },
     "execution_count": 22,
     "metadata": {},
     "output_type": "execute_result"
    }
   ],
   "source": [
    "rest_df.head(10)"
   ]
  },
  {
   "cell_type": "code",
   "execution_count": 23,
   "metadata": {},
   "outputs": [
    {
     "data": {
      "text/html": [
       "<div>\n",
       "<style scoped>\n",
       "    .dataframe tbody tr th:only-of-type {\n",
       "        vertical-align: middle;\n",
       "    }\n",
       "\n",
       "    .dataframe tbody tr th {\n",
       "        vertical-align: top;\n",
       "    }\n",
       "\n",
       "    .dataframe thead th {\n",
       "        text-align: right;\n",
       "    }\n",
       "</style>\n",
       "<table border=\"1\" class=\"dataframe\">\n",
       "  <thead>\n",
       "    <tr style=\"text-align: right;\">\n",
       "      <th></th>\n",
       "      <th>id</th>\n",
       "      <th>object_name</th>\n",
       "      <th>address</th>\n",
       "      <th>chain</th>\n",
       "      <th>object_type</th>\n",
       "      <th>number</th>\n",
       "      <th>street_name</th>\n",
       "    </tr>\n",
       "  </thead>\n",
       "  <tbody>\n",
       "    <tr>\n",
       "      <th>0</th>\n",
       "      <td>11786</td>\n",
       "      <td>HABITAT COFFEE SHOP</td>\n",
       "      <td>3708 N EAGLE ROCK BLVD</td>\n",
       "      <td>False</td>\n",
       "      <td>Cafe</td>\n",
       "      <td>26</td>\n",
       "      <td>N EAGLE ROCK BLVD</td>\n",
       "    </tr>\n",
       "    <tr>\n",
       "      <th>1</th>\n",
       "      <td>11787</td>\n",
       "      <td>REILLY'S</td>\n",
       "      <td>100 WORLD WAY 120</td>\n",
       "      <td>False</td>\n",
       "      <td>Restaurant</td>\n",
       "      <td>9</td>\n",
       "      <td>WORLD WAY 120</td>\n",
       "    </tr>\n",
       "    <tr>\n",
       "      <th>2</th>\n",
       "      <td>11788</td>\n",
       "      <td>STREET CHURROS</td>\n",
       "      <td>6801 HOLLYWOOD BLVD 253</td>\n",
       "      <td>False</td>\n",
       "      <td>Fast Food</td>\n",
       "      <td>20</td>\n",
       "      <td>HOLLYWOOD BLVD 253</td>\n",
       "    </tr>\n",
       "    <tr>\n",
       "      <th>3</th>\n",
       "      <td>11789</td>\n",
       "      <td>TRINITI ECHO PARK</td>\n",
       "      <td>1814 W SUNSET BLVD</td>\n",
       "      <td>False</td>\n",
       "      <td>Restaurant</td>\n",
       "      <td>22</td>\n",
       "      <td>W SUNSET BLVD</td>\n",
       "    </tr>\n",
       "    <tr>\n",
       "      <th>4</th>\n",
       "      <td>11790</td>\n",
       "      <td>POLLEN</td>\n",
       "      <td>2100 ECHO PARK AVE</td>\n",
       "      <td>False</td>\n",
       "      <td>Restaurant</td>\n",
       "      <td>20</td>\n",
       "      <td>ECHO PARK AVE</td>\n",
       "    </tr>\n",
       "    <tr>\n",
       "      <th>...</th>\n",
       "      <td>...</td>\n",
       "      <td>...</td>\n",
       "      <td>...</td>\n",
       "      <td>...</td>\n",
       "      <td>...</td>\n",
       "      <td>...</td>\n",
       "      <td>...</td>\n",
       "    </tr>\n",
       "    <tr>\n",
       "      <th>9646</th>\n",
       "      <td>21432</td>\n",
       "      <td>HALL OF JUSTICE</td>\n",
       "      <td>217 W TEMPLE AVE</td>\n",
       "      <td>False</td>\n",
       "      <td>Restaurant</td>\n",
       "      <td>122</td>\n",
       "      <td>W TEMPLE AVE</td>\n",
       "    </tr>\n",
       "    <tr>\n",
       "      <th>9647</th>\n",
       "      <td>21433</td>\n",
       "      <td>FIN-MELROSE</td>\n",
       "      <td>5750 MELROSE AVE</td>\n",
       "      <td>False</td>\n",
       "      <td>Restaurant</td>\n",
       "      <td>93</td>\n",
       "      <td>MELROSE AVE</td>\n",
       "    </tr>\n",
       "    <tr>\n",
       "      <th>9648</th>\n",
       "      <td>21434</td>\n",
       "      <td>JUICY WINGZ</td>\n",
       "      <td>6741 HOLLYWOOD BLVD</td>\n",
       "      <td>True</td>\n",
       "      <td>Fast Food</td>\n",
       "      <td>15</td>\n",
       "      <td>HOLLYWOOD BLVD</td>\n",
       "    </tr>\n",
       "    <tr>\n",
       "      <th>9649</th>\n",
       "      <td>21435</td>\n",
       "      <td>MEDIDATE COFFEE</td>\n",
       "      <td>548 S SPRING ST STE 100</td>\n",
       "      <td>False</td>\n",
       "      <td>Cafe</td>\n",
       "      <td>6</td>\n",
       "      <td>S SPRING ST STE 100</td>\n",
       "    </tr>\n",
       "    <tr>\n",
       "      <th>9650</th>\n",
       "      <td>21436</td>\n",
       "      <td>CAFE SPROUTS</td>\n",
       "      <td>1300 S SAN PEDRO ST STE 111</td>\n",
       "      <td>True</td>\n",
       "      <td>Restaurant</td>\n",
       "      <td>19</td>\n",
       "      <td>S SAN PEDRO ST STE 111</td>\n",
       "    </tr>\n",
       "  </tbody>\n",
       "</table>\n",
       "<p>9648 rows × 7 columns</p>\n",
       "</div>"
      ],
      "text/plain": [
       "         id          object_name                      address  chain  \\\n",
       "0     11786  HABITAT COFFEE SHOP       3708 N EAGLE ROCK BLVD  False   \n",
       "1     11787             REILLY'S            100 WORLD WAY 120  False   \n",
       "2     11788       STREET CHURROS      6801 HOLLYWOOD BLVD 253  False   \n",
       "3     11789    TRINITI ECHO PARK           1814 W SUNSET BLVD  False   \n",
       "4     11790               POLLEN           2100 ECHO PARK AVE  False   \n",
       "...     ...                  ...                          ...    ...   \n",
       "9646  21432      HALL OF JUSTICE             217 W TEMPLE AVE  False   \n",
       "9647  21433          FIN-MELROSE             5750 MELROSE AVE  False   \n",
       "9648  21434          JUICY WINGZ          6741 HOLLYWOOD BLVD   True   \n",
       "9649  21435      MEDIDATE COFFEE      548 S SPRING ST STE 100  False   \n",
       "9650  21436         CAFE SPROUTS  1300 S SAN PEDRO ST STE 111   True   \n",
       "\n",
       "     object_type  number             street_name  \n",
       "0           Cafe      26       N EAGLE ROCK BLVD  \n",
       "1     Restaurant       9           WORLD WAY 120  \n",
       "2      Fast Food      20      HOLLYWOOD BLVD 253  \n",
       "3     Restaurant      22           W SUNSET BLVD  \n",
       "4     Restaurant      20           ECHO PARK AVE  \n",
       "...          ...     ...                     ...  \n",
       "9646  Restaurant     122            W TEMPLE AVE  \n",
       "9647  Restaurant      93             MELROSE AVE  \n",
       "9648   Fast Food      15          HOLLYWOOD BLVD  \n",
       "9649        Cafe       6     S SPRING ST STE 100  \n",
       "9650  Restaurant      19  S SAN PEDRO ST STE 111  \n",
       "\n",
       "[9648 rows x 7 columns]"
      ]
     },
     "metadata": {},
     "output_type": "display_data"
    }
   ],
   "source": [
    "import re\n",
    "rest_df['street_name'] = rest_df['address'].replace('\\d+\\s','',regex=True)\n",
    "\n",
    "# Print the updated DataFrame\n",
    "display(rest_df)"
   ]
  },
  {
   "cell_type": "code",
   "execution_count": 24,
   "metadata": {},
   "outputs": [
    {
     "data": {
      "text/plain": [
       "0"
      ]
     },
     "execution_count": 24,
     "metadata": {},
     "output_type": "execute_result"
    }
   ],
   "source": [
    "rest_df['street_name'].isna().sum() # check missing values"
   ]
  },
  {
   "cell_type": "code",
   "execution_count": 25,
   "metadata": {},
   "outputs": [
    {
     "name": "stdout",
     "output_type": "stream",
     "text": [
      "<class 'pandas.core.frame.DataFrame'>\n",
      "Int64Index: 9648 entries, 0 to 9650\n",
      "Data columns (total 7 columns):\n",
      " #   Column       Non-Null Count  Dtype \n",
      "---  ------       --------------  ----- \n",
      " 0   id           9648 non-null   int64 \n",
      " 1   object_name  9648 non-null   object\n",
      " 2   address      9648 non-null   object\n",
      " 3   chain        9648 non-null   object\n",
      " 4   object_type  9648 non-null   object\n",
      " 5   number       9648 non-null   int64 \n",
      " 6   street_name  9648 non-null   object\n",
      "dtypes: int64(2), object(5)\n",
      "memory usage: 603.0+ KB\n"
     ]
    }
   ],
   "source": [
    "rest_df.info()"
   ]
  },
  {
   "cell_type": "markdown",
   "metadata": {},
   "source": [
    "<a id=\"10\"></a> \n",
    "### Plot a graph of the top ten streets by number of restaurants"
   ]
  },
  {
   "cell_type": "markdown",
   "metadata": {},
   "source": [
    "- Filter object_type by Restaurant and sort it by street_name."
   ]
  },
  {
   "cell_type": "code",
   "execution_count": 26,
   "metadata": {},
   "outputs": [
    {
     "data": {
      "text/plain": [
       "W PICO BLVD          218\n",
       "W SUNSET BLVD        217\n",
       "HOLLYWOOD BLVD       136\n",
       "WILSHIRE BLVD        131\n",
       "W 3RD ST             119\n",
       "S VERMONT AVE        107\n",
       "W OLYMPIC BLVD       107\n",
       "SANTA MONICA BLVD    107\n",
       "MELROSE AVE          106\n",
       "BEVERLY BLVD         103\n",
       "Name: street_name, dtype: int64"
      ]
     },
     "metadata": {},
     "output_type": "display_data"
    }
   ],
   "source": [
    "top_ten_streets = rest_df[rest_df['object_type'] == 'Restaurant']['street_name'].value_counts().head(10)\n",
    "\n",
    "# Print the top ten streets\n",
    "display(top_ten_streets)"
   ]
  },
  {
   "cell_type": "code",
   "execution_count": 33,
   "metadata": {},
   "outputs": [
    {
     "data": {
      "image/png": "[encoded data removed]",
      "text/plain": [
       "<Figure size 800x600 with 1 Axes>"
      ]
     },
     "metadata": {},
     "output_type": "display_data"
    }
   ],
   "source": [
    "streets = top_ten_streets.index\n",
    "restaurant_count = top_ten_streets.values\n",
    "\n",
    "colors = ['blue' if count != max(restaurant_count) else 'red' for count in restaurant_count]\n",
    "\n",
    "# Plotting the horizontal bar chart\n",
    "plt.figure(figsize=(8, 6))\n",
    "plt.barh(streets, restaurant_count, color=colors)\n",
    "\n",
    "# Adding value annotations to the bars\n",
    "for i, count in enumerate(restaurant_count):\n",
    "    plt.text(count, i, str(count), ha='left', va='center')\n",
    "\n",
    "# Labeling the axes and setting the title\n",
    "plt.xlabel('Number of Restaurants')\n",
    "plt.ylabel('Street Name')\n",
    "plt.title('Top Ten Streets by Number of Restaurants')\n",
    "\n",
    "# Displaying the plot\n",
    "plt.show()"
   ]
  },
  {
   "cell_type": "markdown",
   "metadata": {},
   "source": [
    "> - High Concentration on Pico Blvd: Pico Blvd stands out with the highest number of restaurants at 218, indicating a major dining hub.\n",
    "> -Sunset Blvd's Prominence: Following closely is Sunset Blvd with 217 restaurants, nearly matching Pico Blvd's count.\n",
    "> - Significant Gap: There is a noticeable drop in restaurant numbers when moving from Hollywood Blvd (136 restaurants) to Wilshire Blvd (131 restaurants).\n",
    "> - Cluster of Mid-Range Streets: Streets like Beverly Blvd, Melrose Ave, and Vermont Ave host around 100-107 restaurants each, showing a moderate concentration."
   ]
  },
  {
   "cell_type": "markdown",
   "metadata": {},
   "source": [
    "<a id=\"11\"></a> \n",
    "### Find the number of streets that only have one restaurant"
   ]
  },
  {
   "cell_type": "code",
   "execution_count": 34,
   "metadata": {},
   "outputs": [
    {
     "data": {
      "text/plain": [
       "S GRAND AVE STE D-3                  1\n",
       "W BARRINGTON CT                      1\n",
       "SA VICENTE BLVD STE 100              1\n",
       "N FARING RD                          1\n",
       "CENTURY PARK E STE #330              1\n",
       "                                    ..\n",
       "UCLA MEDICAL PLZ #170                1\n",
       "ASTRONAUT ELLISON ONIZUKA ST #301    1\n",
       "EXPOSITION PARK DR                   1\n",
       "S WESTERN AVE E                      1\n",
       "S MARLTON AVE                        1\n",
       "Name: street_name, Length: 1974, dtype: int64"
      ]
     },
     "execution_count": 34,
     "metadata": {},
     "output_type": "execute_result"
    }
   ],
   "source": [
    "street_counts = rest_df[rest_df['object_type'] == 'Restaurant']['street_name'].value_counts()\n",
    "streets_with_one_restaurant = street_counts[street_counts == 1]\n",
    "streets_with_one_restaurant"
   ]
  },
  {
   "cell_type": "code",
   "execution_count": 35,
   "metadata": {},
   "outputs": [
    {
     "name": "stdout",
     "output_type": "stream",
     "text": [
      "Number of streets with only one restaurant: 1974\n"
     ]
    }
   ],
   "source": [
    "# Count the number of streets with only one restaurant\n",
    "num_streets_with_one_restaurant = len(streets_with_one_restaurant)\n",
    "\n",
    "# Print the result\n",
    "print(\"Number of streets with only one restaurant:\", num_streets_with_one_restaurant)"
   ]
  },
  {
   "cell_type": "code",
   "execution_count": 36,
   "metadata": {},
   "outputs": [
    {
     "data": {
      "image/png": "[encoded data removed]",
      "text/plain": [
       "<Figure size 1000x600 with 1 Axes>"
      ]
     },
     "metadata": {},
     "output_type": "display_data"
    }
   ],
   "source": [
    "# Get the count of restaurants per street\n",
    "restaurant_counts = rest_df[rest_df['object_type'] == 'Restaurant']['street_name'].value_counts()\n",
    "\n",
    "# Filter streets with only one restaurant\n",
    "streets_with_one_restaurant = restaurant_counts[restaurant_counts == 1]\n",
    "\n",
    "# Get the count of streets with only one restaurant\n",
    "num_streets_with_one_restaurant = len(streets_with_one_restaurant)\n",
    "\n",
    "# Create the histogram\n",
    "plt.figure(figsize=(10, 6))\n",
    "plt.hist(restaurant_counts, bins=20, edgecolor='black')\n",
    "\n",
    "plt.xlabel('Number of Restaurants')\n",
    "plt.ylabel('Number of Streets')\n",
    "plt.title('Distribution of Restaurants per Street')\n",
    "\n",
    "# Add a vertical line to indicate streets with only one restaurant\n",
    "plt.axvline(x=1, color='red', linestyle='dashed', linewidth=2, label='Streets with One Restaurant')\n",
    "\n",
    "# Set x-axis limit to 110\n",
    "plt.xlim(0, 110)\n",
    "\n",
    "plt.legend()\n",
    "plt.tight_layout()\n",
    "plt.show()"
   ]
  },
  {
   "cell_type": "markdown",
   "metadata": {},
   "source": [
    "> - A total of 1,995 streets in the dataset feature only one restaurant each.\n",
    "> - The distribution of restaurants across streets predominantly shows that most streets have a few restaurants.\n",
    "> - According to the histogram, the most frequent occurrence is streets with just one restaurant, making it the highest frequency bin.\n",
    "> - The high number of streets with only one restaurant points to a widespread, rather than concentrated, distribution of restaurants throughout various streets.\n",
    "> - Streets hosting a single restaurant may be seen as unique dining spots or located in less commercially dense areas.\n",
    "> - The histogram includes a red dashed line that marks the significant number of streets with only one restaurant, distinguishing them from those with multiple dining establishments."
   ]
  },
  {
   "cell_type": "markdown",
   "metadata": {},
   "source": [
    "<a id=\"12\"></a> \n",
    "### For streets with a lot of restaurants, look at the distribution of the number of seats. What trends can be seen?"
   ]
  },
  {
   "cell_type": "markdown",
   "metadata": {},
   "source": [
    "- To explore the seating capacity trends on streets that have a high number of restaurants, we can concentrate on these densely populated streets and analyze how the number of seats varies among them."
   ]
  },
  {
   "cell_type": "code",
   "execution_count": 37,
   "metadata": {},
   "outputs": [],
   "source": [
    "restaurant_streets = rest_df[rest_df['object_type'] == 'Restaurant']['street_name']\n",
    "\n",
    "# Select streets with a high frequency of restaurants\n",
    "high_freq_streets = restaurant_streets.value_counts().head(3).index\n",
    "\n",
    "# Filter the data for the selected streets\n",
    "selected_data = rest_df[rest_df['street_name'].isin(high_freq_streets)]"
   ]
  },
  {
   "cell_type": "code",
   "execution_count": 38,
   "metadata": {},
   "outputs": [],
   "source": [
    "selected_data_sorted = selected_data.sort_values(by='number', ascending=False)"
   ]
  },
  {
   "cell_type": "code",
   "execution_count": 39,
   "metadata": {},
   "outputs": [
    {
     "data": {
      "text/html": [
       "<div>\n",
       "<style scoped>\n",
       "    .dataframe tbody tr th:only-of-type {\n",
       "        vertical-align: middle;\n",
       "    }\n",
       "\n",
       "    .dataframe tbody tr th {\n",
       "        vertical-align: top;\n",
       "    }\n",
       "\n",
       "    .dataframe thead th {\n",
       "        text-align: right;\n",
       "    }\n",
       "</style>\n",
       "<table border=\"1\" class=\"dataframe\">\n",
       "  <thead>\n",
       "    <tr style=\"text-align: right;\">\n",
       "      <th></th>\n",
       "      <th>id</th>\n",
       "      <th>object_name</th>\n",
       "      <th>address</th>\n",
       "      <th>chain</th>\n",
       "      <th>object_type</th>\n",
       "      <th>number</th>\n",
       "      <th>street_name</th>\n",
       "    </tr>\n",
       "  </thead>\n",
       "  <tbody>\n",
       "    <tr>\n",
       "      <th>5091</th>\n",
       "      <td>16877</td>\n",
       "      <td>BOULEVARD 3</td>\n",
       "      <td>6523 W SUNSET BLVD</td>\n",
       "      <td>False</td>\n",
       "      <td>Restaurant</td>\n",
       "      <td>229</td>\n",
       "      <td>W SUNSET BLVD</td>\n",
       "    </tr>\n",
       "    <tr>\n",
       "      <th>4626</th>\n",
       "      <td>16412</td>\n",
       "      <td>PLAYHOUSE</td>\n",
       "      <td>6506 HOLLYWOOD BLVD</td>\n",
       "      <td>False</td>\n",
       "      <td>Restaurant</td>\n",
       "      <td>229</td>\n",
       "      <td>HOLLYWOOD BLVD</td>\n",
       "    </tr>\n",
       "    <tr>\n",
       "      <th>8892</th>\n",
       "      <td>20678</td>\n",
       "      <td>LOWBOY</td>\n",
       "      <td>1536 W SUNSET BLVD</td>\n",
       "      <td>False</td>\n",
       "      <td>Restaurant</td>\n",
       "      <td>228</td>\n",
       "      <td>W SUNSET BLVD</td>\n",
       "    </tr>\n",
       "    <tr>\n",
       "      <th>2810</th>\n",
       "      <td>14596</td>\n",
       "      <td>BANQUET KITCHEN (2ND FLOOR)</td>\n",
       "      <td>6250 HOLLYWOOD BLVD</td>\n",
       "      <td>False</td>\n",
       "      <td>Restaurant</td>\n",
       "      <td>222</td>\n",
       "      <td>HOLLYWOOD BLVD</td>\n",
       "    </tr>\n",
       "    <tr>\n",
       "      <th>4020</th>\n",
       "      <td>15806</td>\n",
       "      <td>AROMA BAKERY CAFE</td>\n",
       "      <td>7373 W SUNSET BLVD</td>\n",
       "      <td>True</td>\n",
       "      <td>Bakery</td>\n",
       "      <td>218</td>\n",
       "      <td>W SUNSET BLVD</td>\n",
       "    </tr>\n",
       "  </tbody>\n",
       "</table>\n",
       "</div>"
      ],
      "text/plain": [
       "         id                  object_name              address  chain  \\\n",
       "5091  16877                  BOULEVARD 3   6523 W SUNSET BLVD  False   \n",
       "4626  16412                    PLAYHOUSE  6506 HOLLYWOOD BLVD  False   \n",
       "8892  20678                       LOWBOY   1536 W SUNSET BLVD  False   \n",
       "2810  14596  BANQUET KITCHEN (2ND FLOOR)  6250 HOLLYWOOD BLVD  False   \n",
       "4020  15806            AROMA BAKERY CAFE   7373 W SUNSET BLVD   True   \n",
       "\n",
       "     object_type  number     street_name  \n",
       "5091  Restaurant     229   W SUNSET BLVD  \n",
       "4626  Restaurant     229  HOLLYWOOD BLVD  \n",
       "8892  Restaurant     228   W SUNSET BLVD  \n",
       "2810  Restaurant     222  HOLLYWOOD BLVD  \n",
       "4020      Bakery     218   W SUNSET BLVD  "
      ]
     },
     "execution_count": 39,
     "metadata": {},
     "output_type": "execute_result"
    }
   ],
   "source": [
    "selected_data_sorted.head()"
   ]
  },
  {
   "cell_type": "code",
   "execution_count": 40,
   "metadata": {},
   "outputs": [
    {
     "data": {
      "image/png": "[encoded data removed]",
      "text/plain": [
       "<Figure size 1000x600 with 1 Axes>"
      ]
     },
     "metadata": {},
     "output_type": "display_data"
    }
   ],
   "source": [
    "# Plot the distribution of the number of seats for each street\n",
    "plt.figure(figsize=(10, 6))\n",
    "for street in high_freq_streets:\n",
    "    street_data = selected_data[selected_data['street_name'] == street]\n",
    "    plt.hist(street_data['number'], bins=10, alpha=0.3, label=street)\n",
    "\n",
    "plt.xlabel('Number of Seats')\n",
    "plt.ylabel('Frequency')\n",
    "plt.legend()\n",
    "plt.title('Distribution of Number of Seats for Streets with High Frequency of Restaurants')\n",
    "plt.show()"
   ]
  },
  {
   "cell_type": "markdown",
   "metadata": {},
   "source": [
    "> - Sunset Blvd (W Sunset Blvd) and Hollywood Blvd stand out with a high concentration of restaurants, leading the list with the highest number of establishments. Notably, Boulevard 3 on W Sunset Blvd and Playhouse on Hollywood Blvd each boast 229 seats, highlighting their popularity.\n",
    "\n",
    "> - A diverse mix of both chain and non-chain establishments populates these prominent streets. Notably, Boulevard 3 and Playhouse are independent operations, demonstrating that non-franchise restaurants can also succeed in high-traffic areas.\n",
    "\n",
    "> - The variety among the top dining spots on these streets extends to different types of food service operations, including traditional restaurants, bakeries, and even specialized banquet facilities, reflecting a rich and varied dining environment.\n",
    "\n",
    "> - The locations of these restaurants on busy, well-known streets suggest they benefit from heavy foot traffic and high visibility, making them attractive spots for launching a food business.\n",
    "\n",
    "- Collectively, these trends underscore that Sunset Blvd and Hollywood Blvd are dynamic culinary hubs, appealing to a broad audience with their eclectic food offerings and supporting both chain and independent ventures. These streets are evidently favored by both locals and tourists for their extensive dining choices."
   ]
  },
  {
   "cell_type": "markdown",
   "metadata": {},
   "source": [
    "<a id=\"13\"></a> \n",
    "# Stage 3: General conclusion "
   ]
  },
  {
   "cell_type": "markdown",
   "metadata": {},
   "source": [
    "- Conclusion:\n",
    "> - Sunset Blvd and Hollywood Blvd present optimal locations for launching a new restaurant due to their high visibility and established popularity. The mix of chain and non-chain establishments, along with a range of culinary offerings, highlights a market receptive to both innovation and traditional dining experiences.\n",
    "\n",
    "- Recommendations:\n",
    "\n",
    "> - Number of Seats: Start with a moderate number of seats (50-70) to maintain an intimate setting while accommodating enough patrons to ensure profitability. This size would facilitate efficient service by your robotic staff without overwhelming the technology, ensuring a high-quality customer experience.\n",
    "\n",
    "> - Chain Development: Given the success of both chain and non-chain establishments on these streets, starting a cafe that could eventually evolve into a chain might be a strategic move. Focus on creating a scalable business model right from the start, with standardized processes that can be easily replicated in new locations, possibly near other tech hubs or areas with high interest in sustainability and technology.\n",
    "\n",
    "- This approach not only leverages the current market dynamics but also aligns with broader trends towards technological integration in dining, offering a fresh take that could captivate both local patrons and visitors."
   ]
  },
  {
   "cell_type": "markdown",
   "metadata": {},
   "source": [
    "<a id=\"14\"></a> \n",
    "# Stage 4: Presentation Slide"
   ]
  },
  {
   "cell_type": "markdown",
   "metadata": {},
   "source": [
    "- Presentation: https://drive.google.com/file/d/161VZQ83EOOlD44auu8A6--ezshjUQHVT/view?usp=drive_link"
   ]
  }
 ],
 "metadata": {
  "ExecuteTimeLog": [
   {
    "duration": 26394,
    "start_time": "2024-05-27T02:49:08.792Z"
   },
   {
    "duration": 5297,
    "start_time": "2024-05-27T02:51:01.521Z"
   },
   {
    "duration": 40,
    "start_time": "2024-05-27T02:51:55.793Z"
   },
   {
    "duration": 24,
    "start_time": "2024-05-27T02:52:42.113Z"
   },
   {
    "duration": 30,
    "start_time": "2024-05-27T02:52:52.350Z"
   },
   {
    "duration": 27,
    "start_time": "2024-05-27T02:53:10.909Z"
   },
   {
    "duration": 11,
    "start_time": "2024-05-27T02:54:10.528Z"
   },
   {
    "duration": 13,
    "start_time": "2024-05-27T02:54:36.647Z"
   },
   {
    "duration": 25,
    "start_time": "2024-05-27T02:55:30.642Z"
   },
   {
    "duration": 7,
    "start_time": "2024-05-27T02:55:34.160Z"
   },
   {
    "duration": 840,
    "start_time": "2024-05-27T02:55:44.680Z"
   },
   {
    "duration": 6,
    "start_time": "2024-05-27T02:56:29.959Z"
   },
   {
    "duration": 6,
    "start_time": "2024-05-27T02:56:46.373Z"
   },
   {
    "duration": 26,
    "start_time": "2024-05-27T02:57:39.805Z"
   },
   {
    "duration": 23,
    "start_time": "2024-05-27T03:00:53.958Z"
   },
   {
    "duration": 25,
    "start_time": "2024-05-27T03:01:10.641Z"
   },
   {
    "duration": 24,
    "start_time": "2024-05-27T03:01:20.641Z"
   },
   {
    "duration": 33844,
    "start_time": "2024-05-27T05:25:08.348Z"
   },
   {
    "duration": 6522,
    "start_time": "2024-05-27T05:25:42.196Z"
   },
   {
    "duration": 61,
    "start_time": "2024-05-27T05:25:57.839Z"
   },
   {
    "duration": 31,
    "start_time": "2024-05-27T05:25:58.387Z"
   },
   {
    "duration": 18,
    "start_time": "2024-05-27T05:26:05.064Z"
   },
   {
    "duration": 13,
    "start_time": "2024-05-27T05:26:06.101Z"
   },
   {
    "duration": 26,
    "start_time": "2024-05-27T05:26:07.148Z"
   },
   {
    "duration": 13,
    "start_time": "2024-05-27T05:26:08.017Z"
   },
   {
    "duration": 37,
    "start_time": "2024-05-27T05:26:08.838Z"
   },
   {
    "duration": 26,
    "start_time": "2024-05-27T05:26:10.990Z"
   },
   {
    "duration": 13,
    "start_time": "2024-05-27T05:28:32.043Z"
   },
   {
    "duration": 28,
    "start_time": "2024-05-27T05:29:01.783Z"
   },
   {
    "duration": 279,
    "start_time": "2024-05-27T05:29:18.868Z"
   },
   {
    "duration": 268,
    "start_time": "2024-05-27T05:32:35.666Z"
   },
   {
    "duration": 8,
    "start_time": "2024-05-27T05:34:24.712Z"
   },
   {
    "duration": 457,
    "start_time": "2024-05-27T05:35:21.745Z"
   },
   {
    "duration": 27,
    "start_time": "2024-05-27T05:38:07.980Z"
   },
   {
    "duration": 22,
    "start_time": "2024-05-27T05:38:23.815Z"
   },
   {
    "duration": 9,
    "start_time": "2024-05-27T05:38:37.629Z"
   },
   {
    "duration": 207,
    "start_time": "2024-05-27T05:38:59.907Z"
   },
   {
    "duration": 31,
    "start_time": "2024-05-27T05:44:49.462Z"
   },
   {
    "duration": 15,
    "start_time": "2024-05-27T05:45:01.755Z"
   },
   {
    "duration": 15,
    "start_time": "2024-05-27T05:45:29.678Z"
   },
   {
    "duration": 204,
    "start_time": "2024-05-27T05:46:18.320Z"
   },
   {
    "duration": 12,
    "start_time": "2024-05-27T05:50:45.601Z"
   },
   {
    "duration": 11,
    "start_time": "2024-05-27T05:52:09.023Z"
   },
   {
    "duration": 5,
    "start_time": "2024-05-27T05:52:38.980Z"
   },
   {
    "duration": 282,
    "start_time": "2024-05-27T05:53:08.748Z"
   },
   {
    "duration": 15,
    "start_time": "2024-05-27T05:59:16.009Z"
   },
   {
    "duration": 33,
    "start_time": "2024-05-27T05:59:29.103Z"
   },
   {
    "duration": 58,
    "start_time": "2024-05-27T05:59:49.301Z"
   },
   {
    "duration": 9,
    "start_time": "2024-05-27T06:00:22.390Z"
   },
   {
    "duration": 22,
    "start_time": "2024-05-27T06:00:38.538Z"
   },
   {
    "duration": 30,
    "start_time": "2024-05-27T06:01:20.711Z"
   },
   {
    "duration": 21,
    "start_time": "2024-05-27T06:01:43.578Z"
   },
   {
    "duration": 362,
    "start_time": "2024-05-27T06:03:27.513Z"
   },
   {
    "duration": 349,
    "start_time": "2024-05-27T06:04:08.740Z"
   },
   {
    "duration": 332,
    "start_time": "2024-05-27T06:04:22.756Z"
   },
   {
    "duration": 363,
    "start_time": "2024-05-27T06:04:39.991Z"
   },
   {
    "duration": 17,
    "start_time": "2024-05-27T06:07:56.313Z"
   },
   {
    "duration": 4,
    "start_time": "2024-05-27T06:08:18.188Z"
   },
   {
    "duration": 679,
    "start_time": "2024-05-27T06:09:15.195Z"
   },
   {
    "duration": 39,
    "start_time": "2024-05-27T06:12:27.062Z"
   },
   {
    "duration": 13,
    "start_time": "2024-05-27T06:12:39.116Z"
   },
   {
    "duration": 6,
    "start_time": "2024-05-27T06:12:50.304Z"
   },
   {
    "duration": 12,
    "start_time": "2024-05-27T06:12:58.512Z"
   },
   {
    "duration": 459,
    "start_time": "2024-05-27T06:13:23.484Z"
   },
   {
    "duration": 5412,
    "start_time": "2024-05-28T13:58:55.783Z"
   },
   {
    "duration": 43,
    "start_time": "2024-05-28T14:00:08.723Z"
   },
   {
    "duration": 32,
    "start_time": "2024-05-28T14:00:35.348Z"
   },
   {
    "duration": 12,
    "start_time": "2024-05-28T14:00:40.669Z"
   },
   {
    "duration": 14,
    "start_time": "2024-05-28T14:00:43.582Z"
   },
   {
    "duration": 7,
    "start_time": "2024-05-28T14:00:44.426Z"
   },
   {
    "duration": 6,
    "start_time": "2024-05-28T14:00:45.248Z"
   },
   {
    "duration": 28,
    "start_time": "2024-05-28T14:00:47.061Z"
   },
   {
    "duration": 8,
    "start_time": "2024-05-28T14:02:29.398Z"
   },
   {
    "duration": 228,
    "start_time": "2024-05-28T14:02:30.105Z"
   },
   {
    "duration": 9,
    "start_time": "2024-05-28T14:02:34.382Z"
   },
   {
    "duration": 295,
    "start_time": "2024-05-28T14:02:35.022Z"
   },
   {
    "duration": 13,
    "start_time": "2024-05-28T14:02:39.821Z"
   },
   {
    "duration": 5,
    "start_time": "2024-05-28T14:02:40.464Z"
   },
   {
    "duration": 172,
    "start_time": "2024-05-28T14:02:41.274Z"
   },
   {
    "duration": 11,
    "start_time": "2024-05-28T14:02:45.261Z"
   },
   {
    "duration": 5,
    "start_time": "2024-05-28T14:02:45.774Z"
   },
   {
    "duration": 164,
    "start_time": "2024-05-28T14:02:47.873Z"
   },
   {
    "duration": 10,
    "start_time": "2024-05-28T14:02:52.023Z"
   },
   {
    "duration": 5,
    "start_time": "2024-05-28T14:02:52.549Z"
   },
   {
    "duration": 242,
    "start_time": "2024-05-28T14:02:53.435Z"
   },
   {
    "duration": 15,
    "start_time": "2024-05-28T14:02:57.353Z"
   },
   {
    "duration": 48,
    "start_time": "2024-05-28T14:02:58.142Z"
   },
   {
    "duration": 7,
    "start_time": "2024-05-28T14:02:59.157Z"
   },
   {
    "duration": 17,
    "start_time": "2024-05-28T14:03:00.902Z"
   },
   {
    "duration": 13,
    "start_time": "2024-05-28T14:03:04.183Z"
   },
   {
    "duration": 534,
    "start_time": "2024-05-28T14:03:04.904Z"
   },
   {
    "duration": 40,
    "start_time": "2024-05-28T14:03:28.013Z"
   },
   {
    "duration": 35,
    "start_time": "2024-05-28T14:03:54.827Z"
   },
   {
    "duration": 39,
    "start_time": "2024-05-28T14:04:03.658Z"
   },
   {
    "duration": 31,
    "start_time": "2024-05-28T14:05:49.460Z"
   },
   {
    "duration": 36,
    "start_time": "2024-05-28T14:06:14.633Z"
   },
   {
    "duration": 275,
    "start_time": "2024-05-28T14:06:40.823Z"
   },
   {
    "duration": 16,
    "start_time": "2024-05-28T14:06:53.551Z"
   },
   {
    "duration": 5,
    "start_time": "2024-05-28T14:07:02.180Z"
   },
   {
    "duration": 554,
    "start_time": "2024-05-28T14:07:03.138Z"
   },
   {
    "duration": 11,
    "start_time": "2024-05-28T14:07:07.420Z"
   },
   {
    "duration": 6,
    "start_time": "2024-05-28T14:07:08.579Z"
   },
   {
    "duration": 14,
    "start_time": "2024-05-28T14:07:09.595Z"
   },
   {
    "duration": 337,
    "start_time": "2024-05-28T14:07:11.338Z"
   }
  ],
  "kernelspec": {
   "display_name": "Python 3 (ipykernel)",
   "language": "python",
   "name": "python3"
  },
  "language_info": {
   "codemirror_mode": {
    "name": "ipython",
    "version": 3
   },
   "file_extension": ".py",
   "mimetype": "text/x-python",
   "name": "python",
   "nbconvert_exporter": "python",
   "pygments_lexer": "ipython3",
   "version": "3.9.19"
  },
  "toc": {
   "base_numbering": 1,
   "nav_menu": {},
   "number_sections": true,
   "sideBar": true,
   "skip_h1_title": true,
   "title_cell": "Table of Contents",
   "title_sidebar": "Contents",
   "toc_cell": false,
   "toc_position": {
    "height": "calc(100% - 180px)",
    "left": "10px",
    "top": "150px",
    "width": "165px"
   },
   "toc_section_display": true,
   "toc_window_display": true
  }
 },
 "nbformat": 4,
 "nbformat_minor": 2
}
